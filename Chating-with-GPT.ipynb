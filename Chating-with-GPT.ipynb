{
 "cells": [
  {
   "cell_type": "code",
   "execution_count": 15,
   "id": "89ab4cb4-bb7e-4d7e-b43c-6c1e455521bd",
   "metadata": {
    "tags": []
   },
   "outputs": [],
   "source": [
    "import openai"
   ]
  },
  {
   "cell_type": "code",
   "execution_count": 16,
   "id": "600d6e41-dc46-47b4-87bb-9a6430ec0c11",
   "metadata": {
    "tags": []
   },
   "outputs": [],
   "source": [
    "openai.api_key = ''"
   ]
  },
  {
   "cell_type": "code",
   "execution_count": 17,
   "id": "2f72ab5a-6888-4763-b674-4a34d6a35382",
   "metadata": {
    "tags": []
   },
   "outputs": [],
   "source": [
    "messages = [\n",
    "    {\"role\": \"system\", \"content\": \"You are a kind helpful assistant.\"},\n",
    "]     "
   ]
  },
  {
   "cell_type": "code",
   "execution_count": 22,
   "id": "bdfea571-d3e2-44e8-8f03-0032977f03e1",
   "metadata": {
    "tags": []
   },
   "outputs": [
    {
     "name": "stdout",
     "output_type": "stream",
     "text": [
      "\n"
     ]
    },
    {
     "name": "stdin",
     "output_type": "stream",
     "text": [
      "Bibhash :  Who is Luffy?\n"
     ]
    },
    {
     "name": "stdout",
     "output_type": "stream",
     "text": [
      "\n",
      "ChatGPT: Luffy, full name Monkey D. Luffy, is the main protagonist of the popular manga and anime series \"One Piece\" created by Eiichiro Oda. He is a young pirate with a cheerful and carefree personality who aspires to become the Pirate King and find the treasure known as One Piece. Luffy possesses the power of the Gum-Gum Fruit, which gives him stretching abilities and allows him to face various challenges and enemies throughout his journey.\n",
      "\n"
     ]
    },
    {
     "name": "stdin",
     "output_type": "stream",
     "text": [
      "Bibhash :  x\n"
     ]
    },
    {
     "name": "stdout",
     "output_type": "stream",
     "text": [
      "Goodbye \n"
     ]
    }
   ],
   "source": [
    "while True:\n",
    "    print()\n",
    "    \n",
    "    message = input(\"Bibhash : \")\n",
    "    if(message == 'x'):\n",
    "        print(\"Goodbye \")\n",
    "        break\n",
    "    if message:\n",
    "        messages.append(\n",
    "            {\"role\": \"user\", \"content\": message},\n",
    "        )\n",
    "        chat = openai.ChatCompletion.create(\n",
    "            model=\"gpt-3.5-turbo\", messages=messages\n",
    "        )\n",
    "    \n",
    "    reply = chat.choices[0].message.content\n",
    "    print()\n",
    "    print(f\"ChatGPT: {reply}\")\n",
    "    messages.append({\"role\": \"assistant\", \"content\": reply})"
   ]
  },
  {
   "cell_type": "code",
   "execution_count": null,
   "id": "c05786d0-53b2-485e-830a-380791277495",
   "metadata": {},
   "outputs": [],
   "source": []
  }
 ],
 "metadata": {
  "kernelspec": {
   "display_name": "Python 3 (ipykernel)",
   "language": "python",
   "name": "python3"
  },
  "language_info": {
   "codemirror_mode": {
    "name": "ipython",
    "version": 3
   },
   "file_extension": ".py",
   "mimetype": "text/x-python",
   "name": "python",
   "nbconvert_exporter": "python",
   "pygments_lexer": "ipython3",
   "version": "3.7.16"
  },
  "toc-showmarkdowntxt": true,
  "toc-showtags": false
 },
 "nbformat": 4,
 "nbformat_minor": 5
}
